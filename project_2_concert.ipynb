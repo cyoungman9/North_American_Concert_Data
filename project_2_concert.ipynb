{
 "cells": [
  {
   "cell_type": "markdown",
   "metadata": {},
   "source": [
    "Project 2 Notebook Concert Data"
   ]
  },
  {
   "cell_type": "code",
   "execution_count": 1,
   "metadata": {},
   "outputs": [],
   "source": [
    "#Dependencies\n",
    "import pandas as pd\n",
    "import numpy as np\n",
    "import json\n",
    "import requests\n",
    "import time\n",
    "from pandas import json_normalize\n",
    "import os\n",
    "import csv\n"
   ]
  },
  {
   "cell_type": "code",
   "execution_count": 2,
   "metadata": {},
   "outputs": [],
   "source": [
    "#Reading in mtv genre information and converting it into dataframes\n",
    "concert_total_path = \"new_csv/concert_total.csv\"\n",
    "\n",
    "concert_data = pd.read_csv(concert_total_path)"
   ]
  },
  {
   "cell_type": "code",
   "execution_count": 3,
   "metadata": {},
   "outputs": [
    {
     "name": "stdout",
     "output_type": "stream",
     "text": [
      "<class 'pandas.core.frame.DataFrame'>\n",
      "RangeIndex: 534 entries, 0 to 533\n",
      "Data columns (total 6 columns):\n",
      " #   Column   Non-Null Count  Dtype  \n",
      "---  ------   --------------  -----  \n",
      " 0   name     534 non-null    object \n",
      " 1   date     534 non-null    object \n",
      " 2   tickets  532 non-null    float64\n",
      " 3   gross    534 non-null    int64  \n",
      " 4   month    534 non-null    int64  \n",
      " 5   year     534 non-null    int64  \n",
      "dtypes: float64(1), int64(3), object(2)\n",
      "memory usage: 25.2+ KB\n"
     ]
    }
   ],
   "source": [
    "concert_data.info()"
   ]
  },
  {
   "cell_type": "code",
   "execution_count": 4,
   "metadata": {},
   "outputs": [
    {
     "data": {
      "text/html": [
       "<div>\n",
       "<style scoped>\n",
       "    .dataframe tbody tr th:only-of-type {\n",
       "        vertical-align: middle;\n",
       "    }\n",
       "\n",
       "    .dataframe tbody tr th {\n",
       "        vertical-align: top;\n",
       "    }\n",
       "\n",
       "    .dataframe thead th {\n",
       "        text-align: right;\n",
       "    }\n",
       "</style>\n",
       "<table border=\"1\" class=\"dataframe\">\n",
       "  <thead>\n",
       "    <tr style=\"text-align: right;\">\n",
       "      <th></th>\n",
       "      <th>name</th>\n",
       "      <th>date</th>\n",
       "      <th>tickets</th>\n",
       "      <th>gross</th>\n",
       "      <th>month</th>\n",
       "      <th>year</th>\n",
       "    </tr>\n",
       "  </thead>\n",
       "  <tbody>\n",
       "    <tr>\n",
       "      <th>0</th>\n",
       "      <td>Paul McCartney</td>\n",
       "      <td>1/9/2015</td>\n",
       "      <td>124062.0</td>\n",
       "      <td>7424081</td>\n",
       "      <td>1</td>\n",
       "      <td>2015</td>\n",
       "    </tr>\n",
       "    <tr>\n",
       "      <th>1</th>\n",
       "      <td>Paul McCartney</td>\n",
       "      <td>1/22/2015</td>\n",
       "      <td>68745.0</td>\n",
       "      <td>5153749</td>\n",
       "      <td>1</td>\n",
       "      <td>2015</td>\n",
       "    </tr>\n",
       "    <tr>\n",
       "      <th>2</th>\n",
       "      <td>Paul McCartney</td>\n",
       "      <td>2/5/2015</td>\n",
       "      <td>101863.0</td>\n",
       "      <td>6729532</td>\n",
       "      <td>2</td>\n",
       "      <td>2015</td>\n",
       "    </tr>\n",
       "    <tr>\n",
       "      <th>3</th>\n",
       "      <td>Billy Joel</td>\n",
       "      <td>3/20/2015</td>\n",
       "      <td>37064.0</td>\n",
       "      <td>3924448</td>\n",
       "      <td>3</td>\n",
       "      <td>2015</td>\n",
       "    </tr>\n",
       "    <tr>\n",
       "      <th>4</th>\n",
       "      <td>Kenny Chesney</td>\n",
       "      <td>3/26/2015</td>\n",
       "      <td>43630.0</td>\n",
       "      <td>3776207</td>\n",
       "      <td>3</td>\n",
       "      <td>2015</td>\n",
       "    </tr>\n",
       "  </tbody>\n",
       "</table>\n",
       "</div>"
      ],
      "text/plain": [
       "             name       date   tickets    gross  month  year\n",
       "0  Paul McCartney   1/9/2015  124062.0  7424081      1  2015\n",
       "1  Paul McCartney  1/22/2015   68745.0  5153749      1  2015\n",
       "2  Paul McCartney   2/5/2015  101863.0  6729532      2  2015\n",
       "3      Billy Joel  3/20/2015   37064.0  3924448      3  2015\n",
       "4   Kenny Chesney  3/26/2015   43630.0  3776207      3  2015"
      ]
     },
     "execution_count": 4,
     "metadata": {},
     "output_type": "execute_result"
    }
   ],
   "source": [
    "concert_data.head()"
   ]
  },
  {
   "cell_type": "code",
   "execution_count": 5,
   "metadata": {},
   "outputs": [],
   "source": [
    "concert_count_month = concert_data.groupby([\"month\"]).count()\n",
    "concert_count_month\n",
    "\n",
    "concert_count_month.to_csv(\"new_csv/concert_count_month.csv\")"
   ]
  },
  {
   "cell_type": "code",
   "execution_count": 6,
   "metadata": {},
   "outputs": [],
   "source": [
    "concert_count_year = concert_data.groupby([\"year\"]).count()\n",
    "concert_count_year\n",
    "\n",
    "concert_count_year.to_csv(\"new_csv/concert_count_year.csv\")"
   ]
  },
  {
   "cell_type": "code",
   "execution_count": 7,
   "metadata": {},
   "outputs": [],
   "source": [
    "concert_count_both = concert_data.groupby([\"year\", \"month\"]).count()\n",
    "concert_count_both\n",
    "\n",
    "concert_count_both.to_csv(\"new_csv/concert_count_both.csv\")"
   ]
  },
  {
   "cell_type": "code",
   "execution_count": null,
   "metadata": {},
   "outputs": [],
   "source": []
  }
 ],
 "metadata": {
  "kernelspec": {
   "display_name": "Python [conda env:PythonData] *",
   "language": "python",
   "name": "conda-env-PythonData-py"
  },
  "language_info": {
   "codemirror_mode": {
    "name": "ipython",
    "version": 3
   },
   "file_extension": ".py",
   "mimetype": "text/x-python",
   "name": "python",
   "nbconvert_exporter": "python",
   "pygments_lexer": "ipython3",
   "version": "3.6.10"
  }
 },
 "nbformat": 4,
 "nbformat_minor": 4
}
